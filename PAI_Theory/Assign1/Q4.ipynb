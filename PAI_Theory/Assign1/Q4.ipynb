{
 "cells": [
  {
   "cell_type": "code",
   "execution_count": 24,
   "id": "c2b8fd7d",
   "metadata": {},
   "outputs": [],
   "source": [
    "# A sample 2x4 image represented as a 2D list\n",
    "originalPixels = [\n",
    "    [10, 20, 30],\n",
    "    [40, 50, 60]\n",
    "]"
   ]
  },
  {
   "cell_type": "code",
   "execution_count": 25,
   "id": "1dcf3b6f",
   "metadata": {},
   "outputs": [],
   "source": [
    "class Image:\n",
    "    def __init__(self, pixels):\n",
    "        self.pixels = pixels\n",
    "        self.height = len(pixels)\n",
    "        self.width = len(pixels[0]) if self.height > 0 else 0\n",
    "    \n",
    "    def applyTransformation(self, transformationFunc):\n",
    "        transformed = transformationFunc(self)\n",
    "        self.pixels = transformed.pixels\n",
    "    \n",
    "    def getCopy(self):\n",
    "        copiedPixels = [row[:] for row in self.pixels]\n",
    "        return Image(copiedPixels)\n"
   ]
  },
  {
   "cell_type": "code",
   "execution_count": null,
   "id": "d82f7d9a",
   "metadata": {},
   "outputs": [],
   "source": [
    "def flipHorizontal(pixelData):\n",
    "    flippedPixels = [row[::-1] for row in pixelData.pixels]\n",
    "    return Image(flippedPixels)\n",
    "\n",
    "\n",
    "def adjustBrightness(pixelData, brightnessValue):\n",
    "    adjustedPixels = []\n",
    "    for row in pixelData.pixels:\n",
    "        adjustedRow = [max(0, min(255, i + brightnessValue)) for i in row]\n",
    "        adjustedPixels.append(adjustedRow)\n",
    "    return Image(adjustedPixels)\n",
    "\n",
    "\n",
    "def rotate90Degrees(pixelData):\n",
    "    rotatedPixels = []\n",
    "    for col in range(pixelData.width):\n",
    "        rotatedRow = [] # col ko ulti row bana rahy\n",
    "        for row in range(pixelData.height - 1, -1, -1):\n",
    "            rotatedRow.append(pixelData.pixels[row][col])\n",
    "        rotatedPixels.append(rotatedRow)\n",
    "    return Image(rotatedPixels)"
   ]
  },
  {
   "cell_type": "code",
   "execution_count": 27,
   "id": "8acc47e7",
   "metadata": {},
   "outputs": [],
   "source": [
    "class AugmentationPipeline:\n",
    "    def __init__(self):\n",
    "        self.steps = []\n",
    "\n",
    "    def addStep(self, transformFunc):\n",
    "        self.steps.append(transformFunc)\n",
    "    \n",
    "    def processImage(self, imagePixels, brightnessValue):\n",
    "        augmentedImages = []\n",
    "        for func in self.steps:\n",
    "            imgCopy = imagePixels.getCopy()\n",
    "            if func == adjustBrightness:\n",
    "                result = func(imgCopy, brightnessValue)\n",
    "            else:\n",
    "                result = func(imgCopy)\n",
    "            augmentedImages.append(result)\n",
    "        return augmentedImages"
   ]
  },
  {
   "cell_type": "code",
   "execution_count": 30,
   "id": "e07bde5a",
   "metadata": {},
   "outputs": [
    {
     "name": "stdout",
     "output_type": "stream",
     "text": [
      "Image 1: [[30, 20, 10], [60, 50, 40]]\n",
      "Image 2: [[60, 70, 80], [90, 100, 110]]\n",
      "Image 3: [[40, 10], [50, 20], [60, 30]]\n"
     ]
    }
   ],
   "source": [
    "originalPixels = Image([\n",
    "    [10, 20, 30],\n",
    "    [40, 50, 60]\n",
    "])\n",
    "pipeline = AugmentationPipeline()\n",
    "pipeline.addStep(flipHorizontal)\n",
    "pipeline.addStep(lambda img: adjustBrightness(img, 50))\n",
    "pipeline.addStep(rotate90Degrees)\n",
    "\n",
    "augmentedImages = pipeline.processImage(originalPixels, 50)\n",
    "\n",
    "for i, img in enumerate(augmentedImages, 1):\n",
    "    print(f\"Image {i}:\", img.pixels)\n"
   ]
  }
 ],
 "metadata": {
  "kernelspec": {
   "display_name": "Python 3",
   "language": "python",
   "name": "python3"
  },
  "language_info": {
   "codemirror_mode": {
    "name": "ipython",
    "version": 3
   },
   "file_extension": ".py",
   "mimetype": "text/x-python",
   "name": "python",
   "nbconvert_exporter": "python",
   "pygments_lexer": "ipython3",
   "version": "3.11.9"
  }
 },
 "nbformat": 4,
 "nbformat_minor": 5
}
