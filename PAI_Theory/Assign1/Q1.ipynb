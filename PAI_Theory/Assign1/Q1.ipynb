{
 "cells": [
  {
   "cell_type": "code",
   "execution_count": 4,
   "id": "f9d6f4e6",
   "metadata": {},
   "outputs": [],
   "source": [
    "# The raw log of all items in all orders\n",
    "transactionLog = [\n",
    "    {'orderId': 1001, 'customerId': 'cust_Ahmed', 'productId': 'prod_10'},\n",
    "    {'orderId': 1001, 'customerId': 'cust_Ahmed', 'productId': 'prod_12'},\n",
    "    {'orderId': 1002, 'customerId': 'cust_Bisma', 'productId': 'prod_10'},\n",
    "    {'orderId': 1002, 'customerId': 'cust_Bisma', 'productId': 'prod_15'},\n",
    "    {'orderId': 1003, 'customerId': 'cust_Ahmed', 'productId': 'prod_15'},\n",
    "    {'orderId': 1004, 'customerId': 'cust_Faisal', 'productId': 'prod_12'},\n",
    "    {'orderId': 1004, 'customerId': 'cust_Faisal', 'productId': 'prod_10'},\n",
    "]\n",
    "# The mapping of product IDs to names\n",
    "productCatalog = {\n",
    "    'prod_10': 'Wireless Mouse',\n",
    "    'prod_12': 'Keyboard',\n",
    "    'prod_15': 'USB-C Hub',\n",
    "}"
   ]
  },
  {
   "cell_type": "code",
   "execution_count": 19,
   "id": "22002f3b",
   "metadata": {},
   "outputs": [
    {
     "data": {
      "text/plain": [
       "{1001: ['prod_10', 'prod_12'],\n",
       " 1002: ['prod_10', 'prod_15'],\n",
       " 1003: ['prod_15'],\n",
       " 1004: ['prod_12', 'prod_10']}"
      ]
     },
     "execution_count": 19,
     "metadata": {},
     "output_type": "execute_result"
    }
   ],
   "source": [
    "def processTransactions(transactionsList):\n",
    "    transactions = {}\n",
    "    for transaction in transactionsList:\n",
    "        orderId = transaction['orderId']\n",
    "        productId = transaction['productId']\n",
    "        if orderId not in transactions:\n",
    "            transactions[orderId] = []\n",
    "        transactions[orderId].append(productId)\n",
    "    return transactions\n",
    "\n",
    "orders = processTransactions(transactionLog)\n",
    "orders"
   ]
  },
  {
   "cell_type": "code",
   "execution_count": 20,
   "id": "80de6580",
   "metadata": {},
   "outputs": [
    {
     "data": {
      "text/plain": [
       "{('prod_10', 'prod_12'): 2, ('prod_10', 'prod_15'): 1}"
      ]
     },
     "execution_count": 20,
     "metadata": {},
     "output_type": "execute_result"
    }
   ],
   "source": [
    "def findFrequentPairs(customerData):\n",
    "    countPairs = {}\n",
    "    for id, products in customerData.items():\n",
    "        if len(products) >= 2:\n",
    "            sorted_products = sorted(list(products))\n",
    "            for i in range(len(sorted_products)):\n",
    "                for j in range(i + 1, len(sorted_products)):\n",
    "                    pair = tuple(sorted([sorted_products[i], sorted_products[j]]))\n",
    "                    countPairs[pair] = countPairs.get(pair, 0) + 1\n",
    "    return countPairs\n",
    "\n",
    "frequentPairs = findFrequentPairs(orders)\n",
    "frequentPairs\n"
   ]
  },
  {
   "cell_type": "code",
   "execution_count": null,
   "id": "d0e1276d",
   "metadata": {},
   "outputs": [
    {
     "data": {
      "text/plain": [
       "['prod_12', 'prod_15']"
      ]
     },
     "execution_count": 23,
     "metadata": {},
     "output_type": "execute_result"
    }
   ],
   "source": [
    "def getRecommendations(targetProductId, frequentPairs):\n",
    "    \n",
    "    recommendation_counts = {}\n",
    "    \n",
    "    for (p1, p2), count in frequentPairs.items():\n",
    "        if p1 == targetProductId:\n",
    "            recommendation_counts[p2] = count\n",
    "        elif p2 == targetProductId:\n",
    "            recommendation_counts[p1] = count\n",
    "\n",
    "    sorted_recommendations = sorted(\n",
    "        recommendation_counts.items(),\n",
    "        key=lambda item: item[1],\n",
    "        reverse=True\n",
    "    ) #took help from chatgpt here, as didn't know how to sort dict by value\n",
    "\n",
    "    ranked_product_ids = [prod_id for prod_id, count in sorted_recommendations]\n",
    "\n",
    "    return ranked_product_ids\n",
    "recommendations = getRecommendations('prod_10', frequentPairs)\n",
    "recommendations\n"
   ]
  },
  {
   "cell_type": "code",
   "execution_count": 30,
   "id": "3ee0f4d8",
   "metadata": {},
   "outputs": [
    {
     "name": "stdout",
     "output_type": "stream",
     "text": [
      "\n",
      "Recommendation Report for: Wireless Mouse \n",
      "\n",
      "1. Keyboard (ID: prod_12)\n",
      "2. USB-C Hub (ID: prod_15)\n"
     ]
    }
   ],
   "source": [
    "def generateReport(targetProductId, recommendations, catalog):\n",
    "    targetProductName = catalog.get(targetProductId, f\"ID: {targetProductId}\")\n",
    "\n",
    "    print(f\"\\nRecommendation Report for: {targetProductName} \\n\")\n",
    "    \n",
    "    recommendationNames = [catalog.get(prod_id, f\"ID: {prod_id}\") for prod_id in recommendations]\n",
    "    \n",
    "    report_data = zip(enumerate(recommendations, 1), recommendationNames)\n",
    "    \n",
    "    if not recommendations:\n",
    "        print(\"No recommendations found.\")\n",
    "    else:\n",
    "        for (rank, prod_id), prod_name in report_data:\n",
    "            print(f\"{rank}. {prod_name} (ID: {prod_id})\")\n",
    "\n",
    "generateReport('prod_10', recommendations, productCatalog)    "
   ]
  },
  {
   "cell_type": "code",
   "execution_count": 36,
   "id": "5eb5697d",
   "metadata": {},
   "outputs": [
    {
     "name": "stdout",
     "output_type": "stream",
     "text": [
      "{1001: ['prod_10', 'prod_12'], 1002: ['prod_10', 'prod_15'], 1003: ['prod_15'], 1004: ['prod_12', 'prod_10']}\n",
      "\n",
      "{('prod_10', 'prod_12'): 2, ('prod_10', 'prod_15'): 1}\n",
      "\n",
      "['prod_12', 'prod_15']\n",
      "\n"
     ]
    }
   ],
   "source": [
    "print(orders, end=\"\\n\\n\")\n",
    "print(frequentPairs, end=\"\\n\\n\")\n",
    "print(recommendations, end=\"\\n\\n\")"
   ]
  }
 ],
 "metadata": {
  "kernelspec": {
   "display_name": "Python 3",
   "language": "python",
   "name": "python3"
  },
  "language_info": {
   "codemirror_mode": {
    "name": "ipython",
    "version": 3
   },
   "file_extension": ".py",
   "mimetype": "text/x-python",
   "name": "python",
   "nbconvert_exporter": "python",
   "pygments_lexer": "ipython3",
   "version": "3.11.9"
  }
 },
 "nbformat": 4,
 "nbformat_minor": 5
}
