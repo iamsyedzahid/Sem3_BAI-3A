{
 "cells": [
  {
   "cell_type": "code",
   "execution_count": null,
   "id": "7c5fd9ff",
   "metadata": {},
   "outputs": [
    {
     "name": "stdout",
     "output_type": "stream",
     "text": [
      "Worst customer service ever from @GulPhoneSupport. Avoid this.\n"
     ]
    }
   ],
   "source": [
    "# The stream of posts to analyze\n",
    "allPosts = [\n",
    "    {'id': 1, 'text': 'I LOVE the new #GulPhone! Battery life is amazing.'},\n",
    "    {'id': 2, 'text': 'My #GulPhone is a total disaster. The screen is already broken!'},\n",
    "    {'id': 3, 'text': 'Worst customer service ever from @GulPhoneSupport. Avoid this.'},\n",
    "    {'id': 4, 'text': 'The @GulPhoneSupport team was helpful and resolved my issue. Great service!'},\n",
    "]\n",
    "\n",
    "# Keywords and characters for processing\n",
    "PUNCTUATION_CHARS = '!\"#$%&\\'()*+,-./:;<=>?@[\\\\]^_`{|}~'\n",
    "STOPWORDS_SET = {'i', 'me', 'my', 'a', 'an', 'the', 'is', 'am', 'was', 'and', 'but', 'if', 'or', 'to', 'of', 'at', 'by', 'for', 'with', 'this', 'that'}\n",
    "POSITIVE_WORDS_SET = {'love', 'amazing', 'great', 'helpful', 'resolved'}\n",
    "NEGATIVE_WORDS_SET = {'disaster', 'broken', 'worst', 'avoid', 'bad'}"
   ]
  },
  {
   "cell_type": "code",
   "execution_count": null,
   "id": "a357e3a4",
   "metadata": {},
   "outputs": [],
   "source": [
    "def preprocessText(text, puntuationList, stopwordsSets):\n",
    "    text = text.lower()\n",
    "    for noise in puntuationList:\n",
    "        text = text.replace(noise, '')\n",
    "    words = text.split()\n",
    "    lowvalueWords = [word for word in words if word not in stopwordsSets]\n",
    "    return lowvalueWords, text"
   ]
  },
  {
   "cell_type": "code",
   "execution_count": null,
   "id": "cef8195a",
   "metadata": {},
   "outputs": [
    {
     "data": {
      "text/plain": [
       "[{'id': 1,\n",
       "  'text': 'I LOVE the new #GulPhone! Battery life is amazing.',\n",
       "  'processed': (['love', 'new', 'gulphone', 'battery', 'life', 'amazing'],\n",
       "   'i love the new gulphone battery life is amazing'),\n",
       "  'score': 2},\n",
       " {'id': 2,\n",
       "  'text': 'My #GulPhone is a total disaster. The screen is already broken!',\n",
       "  'processed': (['gulphone',\n",
       "    'total',\n",
       "    'disaster',\n",
       "    'screen',\n",
       "    'already',\n",
       "    'broken'],\n",
       "   'my gulphone is a total disaster the screen is already broken'),\n",
       "  'score': -2},\n",
       " {'id': 3,\n",
       "  'text': 'Worst customer service ever from @GulPhoneSupport. Avoid this.',\n",
       "  'processed': (['worst',\n",
       "    'customer',\n",
       "    'service',\n",
       "    'ever',\n",
       "    'from',\n",
       "    'gulphonesupport',\n",
       "    'avoid'],\n",
       "   'worst customer service ever from gulphonesupport avoid this'),\n",
       "  'score': -2},\n",
       " {'id': 4,\n",
       "  'text': 'The @GulPhoneSupport team was helpful and resolved my issue. Great service!',\n",
       "  'processed': (['gulphonesupport',\n",
       "    'team',\n",
       "    'helpful',\n",
       "    'resolved',\n",
       "    'issue',\n",
       "    'great',\n",
       "    'service'],\n",
       "   'the gulphonesupport team was helpful and resolved my issue great service'),\n",
       "  'score': 3}]"
      ]
     },
     "execution_count": 71,
     "metadata": {},
     "output_type": "execute_result"
    }
   ],
   "source": [
    "def analyzePosts(postsList, punctuation, stopwords, positive, negative):\n",
    "    \n",
    "    processedText = list(map(lambda post: preprocessText(post['text'], punctuation, stopwords), postsList))\n",
    "\n",
    "    processedList = []\n",
    "    for i, post in enumerate(postsList):\n",
    "        currentScore = 0 \n",
    "        \n",
    "        for word in processedText[i][0]:\n",
    "            if word in positive:\n",
    "                currentScore += 1\n",
    "            elif word in negative:\n",
    "                currentScore -= 1\n",
    "            \n",
    "        processedList.append({'id': post['id'], 'text': post['text'], 'processed': processedText[i], 'score': currentScore})\n",
    "        \n",
    "    return processedList"
   ]
  },
  {
   "cell_type": "code",
   "execution_count": null,
   "id": "535032f1",
   "metadata": {},
   "outputs": [
    {
     "data": {
      "text/plain": [
       "[{'id': 2,\n",
       "  'text': 'My #GulPhone is a total disaster. The screen is already broken!',\n",
       "  'processed': (['gulphone',\n",
       "    'total',\n",
       "    'disaster',\n",
       "    'screen',\n",
       "    'already',\n",
       "    'broken'],\n",
       "   'my gulphone is a total disaster the screen is already broken'),\n",
       "  'score': -2},\n",
       " {'id': 3,\n",
       "  'text': 'Worst customer service ever from @GulPhoneSupport. Avoid this.',\n",
       "  'processed': (['worst',\n",
       "    'customer',\n",
       "    'service',\n",
       "    'ever',\n",
       "    'from',\n",
       "    'gulphonesupport',\n",
       "    'avoid'],\n",
       "   'worst customer service ever from gulphonesupport avoid this'),\n",
       "  'score': -2}]"
      ]
     },
     "execution_count": 73,
     "metadata": {},
     "output_type": "execute_result"
    }
   ],
   "source": [
    "def getFlaggedPosts(scoredPosts, sentimentThreshold=-1):\n",
    "    flaggedPosts = list(filter(lambda post: post['score'] <= sentimentThreshold, scoredPosts))\n",
    "    return flaggedPosts"
   ]
  },
  {
   "cell_type": "code",
   "execution_count": null,
   "id": "ad9ad329",
   "metadata": {},
   "outputs": [
    {
     "data": {
      "text/plain": [
       "{'#': 1, '@': 1}"
      ]
     },
     "execution_count": 84,
     "metadata": {},
     "output_type": "execute_result"
    }
   ],
   "source": [
    "def findNegativeTopics(flaggedPosts):\n",
    "    negativeTopic = {}\n",
    "    hashtagCount = 0\n",
    "    mentionCount = 0\n",
    "    for post in flaggedPosts:\n",
    "        for word in post['text']:\n",
    "            for char in word:\n",
    "                if char == '#':\n",
    "                    hashtagCount += 1\n",
    "                elif char == '@':\n",
    "                    mentionCount += 1\n",
    "                else:\n",
    "                    continue\n",
    "    negativeTopic['#'] = hashtagCount\n",
    "    negativeTopic['@'] = mentionCount\n",
    "\n",
    "    return negativeTopic"
   ]
  },
  {
   "cell_type": "code",
   "execution_count": 86,
   "id": "819e9c0c",
   "metadata": {},
   "outputs": [
    {
     "name": "stdout",
     "output_type": "stream",
     "text": [
      "[{'id': 1, 'text': 'I LOVE the new #GulPhone! Battery life is amazing.', 'processed': (['love', 'new', 'gulphone', 'battery', 'life', 'amazing'], 'i love the new gulphone battery life is amazing'), 'score': 2}, {'id': 2, 'text': 'My #GulPhone is a total disaster. The screen is already broken!', 'processed': (['gulphone', 'total', 'disaster', 'screen', 'already', 'broken'], 'my gulphone is a total disaster the screen is already broken'), 'score': -2}, {'id': 3, 'text': 'Worst customer service ever from @GulPhoneSupport. Avoid this.', 'processed': (['worst', 'customer', 'service', 'ever', 'from', 'gulphonesupport', 'avoid'], 'worst customer service ever from gulphonesupport avoid this'), 'score': -2}, {'id': 4, 'text': 'The @GulPhoneSupport team was helpful and resolved my issue. Great service!', 'processed': (['gulphonesupport', 'team', 'helpful', 'resolved', 'issue', 'great', 'service'], 'the gulphonesupport team was helpful and resolved my issue great service'), 'score': 3}]\n",
      "\n",
      "[{'id': 2, 'text': 'My #GulPhone is a total disaster. The screen is already broken!', 'processed': (['gulphone', 'total', 'disaster', 'screen', 'already', 'broken'], 'my gulphone is a total disaster the screen is already broken'), 'score': -2}, {'id': 3, 'text': 'Worst customer service ever from @GulPhoneSupport. Avoid this.', 'processed': (['worst', 'customer', 'service', 'ever', 'from', 'gulphonesupport', 'avoid'], 'worst customer service ever from gulphonesupport avoid this'), 'score': -2}]\n",
      "\n",
      "{'#': 1, '@': 1}\n",
      "\n"
     ]
    }
   ],
   "source": [
    "\n",
    "analyzedposts = analyzePosts(allPosts, PUNCTUATION_CHARS, STOPWORDS_SET, POSITIVE_WORDS_SET, NEGATIVE_WORDS_SET)\n",
    "print(analyzedposts, end=\"\\n\\n\")\n",
    "\n",
    "print(getFlaggedPosts(analyzedposts, -1), end=\"\\n\\n\")\n",
    "\n",
    "print(findNegativeTopics(getFlaggedPosts(analyzedposts, -1)), end=\"\\n\\n\")"
   ]
  }
 ],
 "metadata": {
  "kernelspec": {
   "display_name": "Python 3",
   "language": "python",
   "name": "python3"
  },
  "language_info": {
   "codemirror_mode": {
    "name": "ipython",
    "version": 3
   },
   "file_extension": ".py",
   "mimetype": "text/x-python",
   "name": "python",
   "nbconvert_exporter": "python",
   "pygments_lexer": "ipython3",
   "version": "3.11.9"
  }
 },
 "nbformat": 4,
 "nbformat_minor": 5
}
